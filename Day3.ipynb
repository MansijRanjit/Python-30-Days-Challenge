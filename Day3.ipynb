{
 "cells": [
  {
   "cell_type": "code",
   "execution_count": 8,
   "metadata": {},
   "outputs": [
    {
     "name": "stdout",
     "output_type": "stream",
     "text": [
      "z is of type: <class 'int'>\n",
      "z is of type: <class 'float'>\n",
      "20.6\n",
      "z is of type: <class 'float'>\n",
      "m is of type: <class 'str'>\n"
     ]
    }
   ],
   "source": [
    "\"\"\"Implicit type conversion\"\"\"\n",
    "\n",
    "x=10\n",
    "print(\"z is of type:\",type(x))\n",
    "y=10.6\n",
    "print(\"z is of type:\",type(y))\n",
    "z=x+y\n",
    "print(z)\n",
    "print(\"z is of type:\",type(z))\n",
    "m='c'\n",
    "print(\"m is of type:\",type(m))"
   ]
  },
  {
   "cell_type": "code",
   "execution_count": 13,
   "metadata": {},
   "outputs": [
    {
     "name": "stdout",
     "output_type": "stream",
     "text": [
      "After converting to integer base-2:18\n",
      "After converting to float:10010.0\n"
     ]
    }
   ],
   "source": [
    "\"\"\"Explicit type conversion\"\"\"\n",
    "\n",
    "s=\"10010\"\n",
    "# printing string converting to base 2\n",
    "c=int(s,2)\n",
    "print(\"After converting to integer base-2:\",end=\"\")\n",
    "print(c)\n",
    "# printing string converting to float\n",
    "e=float(s)\n",
    "print(\"After converting to float:\",end=\"\")\n",
    "print(e)\n"
   ]
  },
  {
   "cell_type": "code",
   "execution_count": 23,
   "metadata": {},
   "outputs": [
    {
     "name": "stdout",
     "output_type": "stream",
     "text": [
      "Adding 5 and 10 in the list: [9, 8, 7, 6, 5, 6]\n"
     ]
    }
   ],
   "source": [
    "\"\"\"Lists\"\"\"\n",
    "\n",
    "l=[9,8,7,6]\n",
    "# Adding Element to list\n",
    "l.append(5)\n",
    "l.append(6)\n",
    "print(\"Adding 5 and 10 in the list:\",l)"
   ]
  },
  {
   "cell_type": "code",
   "execution_count": 25,
   "metadata": {},
   "outputs": [
    {
     "name": "stdout",
     "output_type": "stream",
     "text": [
      "5\n",
      "popped one element from the list [9, 8, 7, 6]\n",
      "\n",
      "[5, 8, 7, 6]\n"
     ]
    }
   ],
   "source": [
    "# Poping elements from list\n",
    "print(l.pop())\n",
    "print(\"popped one element from the list\",l)\n",
    "print()\n",
    "l[0]=5\n",
    "print(l)\n"
   ]
  },
  {
   "cell_type": "code",
   "execution_count": 7,
   "metadata": {},
   "outputs": [
    {
     "name": "stdout",
     "output_type": "stream",
     "text": [
      "{99, 5, 9, 10, 60}\n",
      "\n"
     ]
    }
   ],
   "source": [
    "\"\"\"Set\"\"\"\n",
    "s=set()\n",
    "\n",
    "# Adding element into set\n",
    "s.add(5)\n",
    "s.add(10)\n",
    "s.add(9)\n",
    "s.add(99)\n",
    "s.add(60)\n",
    "print(s)\n",
    "print()"
   ]
  },
  {
   "cell_type": "code",
   "execution_count": 8,
   "metadata": {},
   "outputs": [
    {
     "name": "stdout",
     "output_type": "stream",
     "text": [
      "Removing 5 from set {99, 9, 10, 60}\n",
      "\n"
     ]
    }
   ],
   "source": [
    "# Removing element from set\n",
    "s.remove(5)\n",
    "print(\"Removing 5 from set\",s)\n",
    "print()\n"
   ]
  },
  {
   "cell_type": "code",
   "execution_count": 14,
   "metadata": {},
   "outputs": [
    {
     "name": "stdout",
     "output_type": "stream",
     "text": [
      "Tuple (9, 8, 7, 6)\n",
      "\n"
     ]
    }
   ],
   "source": [
    "\"\"\"Tuple\"\"\"\n",
    "l=[9,8,7,6]\n",
    "t=tuple(l)\n",
    "\n",
    "# Tuples are immutable(Unchangable)\n",
    "print(\"Tuple\",t)\n",
    "print()"
   ]
  },
  {
   "cell_type": "code",
   "execution_count": 28,
   "metadata": {},
   "outputs": [
    {
     "name": "stdout",
     "output_type": "stream",
     "text": [
      "Dictionary {5: 'Five', 10: 'Ten', 11: 'Ten'}\n"
     ]
    }
   ],
   "source": [
    "\"\"\"Dictionary\"\"\"\n",
    "\n",
    "d={}\n",
    "\n",
    "# Adding key value pair \n",
    "d[5]=\"Five\"\n",
    "d[10]=\"Ten\"\n",
    "d[11]=\"Ten\"\n",
    "print(\"Dictionary\",d)"
   ]
  },
  {
   "cell_type": "code",
   "execution_count": 29,
   "metadata": {},
   "outputs": [
    {
     "name": "stdout",
     "output_type": "stream",
     "text": [
      "Dictionary after removing: {5: 'Five', 11: 'Ten'}\n",
      "Dictionary after poping: {5: 'Five'}\n"
     ]
    }
   ],
   "source": [
    "# Removing key value pair\n",
    "del d[10]\n",
    "print(\"Dictionary after removing:\",d)\n",
    "\n",
    "d.pop(11)\n",
    "print(\"Dictionary after poping:\",d)"
   ]
  },
  {
   "cell_type": "code",
   "execution_count": 47,
   "metadata": {},
   "outputs": [
    {
     "name": "stdout",
     "output_type": "stream",
     "text": [
      "{1: 1}\n",
      "{1: 1, 2: 4}\n",
      "{1: 1, 2: 4, 3: 9}\n",
      "{1: 1, 2: 4, 3: 9, 4: 16}\n",
      "{1: 1, 2: 4, 3: 9, 4: 16, 5: 25}\n",
      "{1: 1, 2: 4, 3: 9, 4: 16, 5: 25, 6: 36}\n",
      "{1: 1, 2: 4, 3: 9, 4: 16, 5: 25, 6: 36, 7: 49}\n",
      "{1: 1, 2: 4, 3: 9, 4: 16, 5: 25, 6: 36, 7: 49, 8: 64}\n",
      "{1: 1, 2: 4, 3: 9, 4: 16, 5: 25, 6: 36, 7: 49, 8: 64, 9: 81}\n",
      "{1: 1, 2: 4, 3: 9, 4: 16, 5: 25, 6: 36, 7: 49, 8: 64, 9: 81, 10: 100}\n",
      "\n",
      "{1: 1, 2: 4, 3: 9, 4: 16, 5: 25, 6: 36, 7: 49, 8: 64, 9: 81, 10: 100}\n"
     ]
    }
   ],
   "source": [
    "\"\"\"Comprehension\"\"\"\n",
    "square_dict=dict()\n",
    "for num in range(1,11):\n",
    "  square_dict[num]=num*num\n",
    "  print(square_dict)\n",
    "print()\n",
    "\n",
    "#same as\n",
    "square_dict={num:num*num for num in range(1,11)}\n",
    "print(square_dict)"
   ]
  },
  {
   "cell_type": "code",
   "execution_count": 48,
   "metadata": {},
   "outputs": [
    {
     "name": "stdout",
     "output_type": "stream",
     "text": [
      "{1: 1, 2: 4, 3: 9, 4: 16, 5: 25}\n",
      "\n",
      "{0: 0, 2: 8, 4: 64, 6: 216, 8: 512}\n"
     ]
    }
   ],
   "source": [
    "#Creation using list comprehension\n",
    "myDict ={x: x**2 for x in [1,2,3,4,5]}\n",
    "print(myDict)\n",
    "\n",
    "print()\n",
    "\n",
    "#Comprehension using if\n",
    "newdict={x:x**3 for x in range(10) if x**3 %4 ==0}\n",
    "print(newdict)"
   ]
  },
  {
   "cell_type": "code",
   "execution_count": 42,
   "metadata": {},
   "outputs": [
    {
     "name": "stdout",
     "output_type": "stream",
     "text": [
      "{'milk': 0.7752, 'coffee': 1.9, 'bread': 1.9}\n"
     ]
    }
   ],
   "source": [
    "\"\"\"Conversion of price to Dollars\"\"\"\n",
    "old_price={'milk':1.02,'coffee':2.5,'bread':2.5}\n",
    "dollar_to_pound=0.76\n",
    "new_price={item:value*dollar_to_pound for (item,value) in old_price.items()}\n",
    "print(new_price)"
   ]
  },
  {
   "cell_type": "code",
   "execution_count": 46,
   "metadata": {},
   "outputs": [
    {
     "name": "stdout",
     "output_type": "stream",
     "text": [
      "{'mansij': 38, 'shree': 28}\n",
      "{'pratap': 25}\n"
     ]
    }
   ],
   "source": [
    "###\n",
    "original_dict ={'mansij':38,'shree':28,'pratap':25}\n",
    "even_dict = {k:v for(k,v) in original_dict.items() if v%2==0}\n",
    "print(even_dict)\n",
    "\n",
    "###\n",
    "original_dict ={'mansij':38,'shree':28,'pratap':25}\n",
    "new_dict = {k:v for(k,v) in original_dict.items()  if v%2!=0 if v>20}\n",
    "print(new_dict)"
   ]
  },
  {
   "cell_type": "code",
   "execution_count": 57,
   "metadata": {},
   "outputs": [
    {
     "name": "stdout",
     "output_type": "stream",
     "text": [
      "[{'Python': 'Machine Learning', 'R': 'Machine Learning'}, {'Python': 'Web Development', 'JavaScript': 'Web Development', 'HTML': 'Web Development'}, {'C#': 'Game Development', 'Python': 'Game Development'}, {'Java': 'App Development', 'Kotlin': 'App Development'}]\n",
      "#########################################\n",
      "Python R\n",
      "Python JavaScript HTML\n",
      "C# Python\n",
      "Java Kotlin\n",
      "#########################################\n",
      "['Python', 'R', 'Python', 'JavaScript', 'HTML', 'C#', 'Python', 'Java', 'Kotlin']\n",
      "#########################################\n",
      "Python\n",
      "R\n",
      "Python\n",
      "JavaScript\n",
      "HTML\n",
      "C#\n",
      "Python\n",
      "Java\n",
      "Kotlin\n"
     ]
    }
   ],
   "source": [
    "languages= [\n",
    "  {\n",
    "  \"Python\":\"Machine Learning\",\n",
    "  \"R\":\"Machine Learning\",\n",
    "  },\n",
    "  {\n",
    "    \"Python\":\"Web Development\",\n",
    "    \"JavaScript\":\"Web Development\",\n",
    "    \"HTML\":\"Web Development\"\n",
    "  },\n",
    "  {\n",
    "    \"C#\":\"Game Development\",\n",
    "    \"Python\":\"Game Development\"\n",
    "  },\n",
    "  {\n",
    "    \"Java\":\"App Development\",\n",
    "    \"Kotlin\":\"App Development\"\n",
    "\n",
    "  }\n",
    "]\n",
    "print(languages)\n",
    "print(\"#########################################\")\n",
    "\n",
    "for language in languages:\n",
    "  print(*language.keys())\n",
    "\n",
    "print(\"#########################################\")\n",
    "\n",
    "print([key for i in languages for key in i.keys()],sep=\"\\n\")\n",
    "\n",
    "print(\"#########################################\")\n",
    "\n",
    "print(*[key for i in languages for key in i.keys()],sep=\"\\n\")"
   ]
  },
  {
   "cell_type": "code",
   "execution_count": null,
   "metadata": {},
   "outputs": [],
   "source": []
  }
 ],
 "metadata": {
  "kernelspec": {
   "display_name": "Python 3",
   "language": "python",
   "name": "python3"
  },
  "language_info": {
   "codemirror_mode": {
    "name": "ipython",
    "version": 3
   },
   "file_extension": ".py",
   "mimetype": "text/x-python",
   "name": "python",
   "nbconvert_exporter": "python",
   "pygments_lexer": "ipython3",
   "version": "3.8.5 (tags/v3.8.5:580fbb0, Jul 20 2020, 15:43:08) [MSC v.1926 32 bit (Intel)]"
  },
  "orig_nbformat": 4,
  "vscode": {
   "interpreter": {
    "hash": "58a061fb04b6562735f9527328ebb60cc12fd79a2efbb89813de36f6ecd62991"
   }
  }
 },
 "nbformat": 4,
 "nbformat_minor": 2
}
